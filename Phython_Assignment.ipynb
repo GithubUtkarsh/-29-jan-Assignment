{
 "cells": [
  {
   "cell_type": "code",
   "execution_count": null,
   "id": "60f3ccff-d0a1-4a6b-be9e-84b704263df3",
   "metadata": {},
   "outputs": [],
   "source": [
    "  Both 'for' and 'while' loops are used in Python to execute a block of code repeatedly,\n",
    "  but they are used in different situations.\n",
    "\n",
    "  Use a for loop :\n",
    "   1. You want to iterate over a sequence of elements, such as a list, tuple, or string.\n",
    "   2. You know in advance the number of times you want to execute the loop.\n",
    "   3. You want to perform a specific task a fixed number of times.\n",
    "\n",
    "    Example :\n",
    "        numbers = [1, 2, 3, 4, 5]\n",
    "\n",
    "        for num in numbers:\n",
    "            print(num)\n",
    "\n",
    "  Use a while loop :\n",
    "    1. You don't know in advance the number of times you want to execute the loop.\n",
    "    2. You want to perform a task as long as a certain condition is true.\n",
    "    3. You want to wait for user input or events to occur.\n",
    "    \n",
    "    Example :\n",
    "        while True:\n",
    "            try:\n",
    "                num = int(input(\"Enter a number: \"))\n",
    "                break\n",
    "        except ValueError:\n",
    "            print(\"Invalid input. Please enter a valid number.\")\n"
   ]
  },
  {
   "cell_type": "code",
   "execution_count": 1,
   "id": "1a595e3e-105a-42b7-bdf2-0962284ceafb",
   "metadata": {},
   "outputs": [
    {
     "name": "stdin",
     "output_type": "stream",
     "text": [
      "Enter a number:  5\n"
     ]
    }
   ],
   "source": [
    "# Using a for loop to calculate the sum and product of the first 10 natural numbers\n",
    "numbers = range(1, 11)\n",
    "sum = 0\n",
    "product = 1\n",
    "\n",
    "for num in numbers:\n",
    "    sum += num\n",
    "    product *= num\n",
    "\n",
    "print(\"Sum of first 10 natural numbers:\", sum)\n",
    "print(\"Product of first 10 natural numbers:\", product)\n"
   ]
  },
  {
   "cell_type": "code",
   "execution_count": 1,
   "id": "b71b7abb-c315-4fbd-bf71-3b851ca45e7b",
   "metadata": {},
   "outputs": [
    {
     "name": "stdout",
     "output_type": "stream",
     "text": [
      "Sum of first 10 natural numbers: 55\n",
      "Product of first 10 natural numbers: 3628800\n"
     ]
    }
   ],
   "source": [
    "# Using a while loop to calculate the sum and product of the first 10 natural numbers\n",
    "numbers = range(1, 11)\n",
    "sum = 0\n",
    "product = 1\n",
    "index = 0\n",
    "\n",
    "while index < len(numbers):\n",
    "    sum += numbers[index]\n",
    "    product *= numbers[index]\n",
    "    index += 1\n",
    "\n",
    "print(\"Sum of first 10 natural numbers:\", sum)\n",
    "print(\"Product of first 10 natural numbers:\", product)\n"
   ]
  },
  {
   "cell_type": "code",
   "execution_count": null,
   "id": "2315e95d-8cb7-4b88-be19-dcd927741870",
   "metadata": {},
   "outputs": [],
   "source": [
    "\n",
    "units_consumed = int(input(\"Enter the number of units consumed: \"))\n",
    "\n",
    "\n",
    "if units_consumed <= 100:\n",
    "    bill = units_consumed * 4.5\n",
    "elif units_consumed <= 200:\n",
    "    bill = 100 * 4.5 + (units_consumed - 100) * 6\n",
    "elif units_consumed <= 300:\n",
    "    bill = 100 * 4.5 + 100 * 6 + (units_consumed - 200) * 10\n",
    "else:\n",
    "    bill = 100 * 4.5 + 100 * 6 + 100 * 10 + (units_consumed - 300) * 20\n",
    "\n",
    "print(\"Total electricity bill: Rs.\", bill)\n"
   ]
  },
  {
   "cell_type": "code",
   "execution_count": null,
   "id": "58bb47af-0354-455f-b827-95b6a61b86c9",
   "metadata": {},
   "outputs": [],
   "source": [
    "# using for loop\n",
    "cubes = []\n",
    "for i in range(1, 101):\n",
    "    cube = i ** 3\n",
    "    if cube % 4 == 0 or cube % 5 == 0:\n",
    "        cubes.append(i)\n",
    "\n",
    "print(cubes)\n",
    "\n",
    "# using while loop\n",
    "cubes = []\n",
    "i = 1\n",
    "while i <= 100:\n",
    "    cube = i ** 3\n",
    "    if cube % 4 == 0 or cube % 5 == 0:\n",
    "        cubes.append(i)\n",
    "    i += 1\n",
    "\n",
    "print(cubes)\n"
   ]
  },
  {
   "cell_type": "code",
   "execution_count": 2,
   "id": "eeb55bfe-402d-48a6-b613-edee6bff530e",
   "metadata": {},
   "outputs": [
    {
     "name": "stdout",
     "output_type": "stream",
     "text": [
      "Number of vowels: 12\n"
     ]
    }
   ],
   "source": [
    "string = \"I want to become a data scientist\"\n",
    "\n",
    "def count_vowels(s):\n",
    "    count = 0\n",
    "    vowels = \"aeiouAEIOU\"\n",
    "    for char in s:\n",
    "        if char in vowels:\n",
    "            count += 1\n",
    "    return count\n",
    "\n",
    "\n",
    "num_vowels = count_vowels(string)\n",
    "print(\"Number of vowels:\", num_vowels)\n"
   ]
  },
  {
   "cell_type": "code",
   "execution_count": null,
   "id": "65a6db2f-8721-4583-b02c-8ac540e97aaf",
   "metadata": {},
   "outputs": [],
   "source": []
  }
 ],
 "metadata": {
  "kernelspec": {
   "display_name": "Python 3 (ipykernel)",
   "language": "python",
   "name": "python3"
  },
  "language_info": {
   "codemirror_mode": {
    "name": "ipython",
    "version": 3
   },
   "file_extension": ".py",
   "mimetype": "text/x-python",
   "name": "python",
   "nbconvert_exporter": "python",
   "pygments_lexer": "ipython3",
   "version": "3.10.8"
  }
 },
 "nbformat": 4,
 "nbformat_minor": 5
}

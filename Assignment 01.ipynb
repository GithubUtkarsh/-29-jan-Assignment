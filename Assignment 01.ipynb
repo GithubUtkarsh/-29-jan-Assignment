{
 "cells": [
  {
   "cell_type": "code",
   "execution_count": 1,
   "id": "9899cb88-6c62-46a0-b521-1d73945ebbe3",
   "metadata": {},
   "outputs": [
    {
     "ename": "SyntaxError",
     "evalue": "invalid decimal literal (3491049165.py, line 1)",
     "output_type": "error",
     "traceback": [
      "\u001b[0;36m  Cell \u001b[0;32mIn[1], line 1\u001b[0;36m\u001b[0m\n\u001b[0;31m    1. Python programming language was developed by Guido van Rossum in the late 1980s and early 1990s, while he was working at the National Research Institute for Mathematics and Computer Science (CWI) in the Netherlands.\u001b[0m\n\u001b[0m                                                                                    ^\u001b[0m\n\u001b[0;31mSyntaxError\u001b[0m\u001b[0;31m:\u001b[0m invalid decimal literal\n"
     ]
    }
   ],
   "source": [
    "1. Python programming language was developed by Guido van Rossum\n",
    "   in the late 1980s and early 1990s, while he was working atthe \n",
    "   National Research Institute for Mathematics and Computer Science\n",
    "   (CWI) in the Netherlands."
   ]
  },
  {
   "cell_type": "code",
   "execution_count": null,
   "id": "52e68448-1c9f-4558-891b-e573476c3a9c",
   "metadata": {},
   "outputs": [],
   "source": [
    "2. Python is a high-level, general-purpose programming language that \n",
    "  supports several programming paradigms, including procedural, object-oriented,\n",
    "  and functional programming. It also has a large standard library \n",
    "  and supports a wide range of third-party libraries and modules, \n",
    "  making it a versatile language for a variety of applications."
   ]
  },
  {
   "cell_type": "code",
   "execution_count": null,
   "id": "d728a332-5c12-415d-a06a-9eeaa734fd95",
   "metadata": {},
   "outputs": [],
   "source": [
    "3. Yes, Python is a case-sensitive language when it comes to \n",
    "  identifiers such as variable names, function names, and \n",
    "  class names. This means that identifiers with different \n",
    "  capitalization are considered as distinct and separate entities.\n",
    "  For example, the identifiers \"myVar\", \"myvar\", and \"MYVAR\" would be \n",
    "  treated as three separate identifiers in Python."
   ]
  },
  {
   "cell_type": "code",
   "execution_count": null,
   "id": "f1a623ab-4ae1-418f-8d2a-09bdd89270f9",
   "metadata": {},
   "outputs": [],
   "source": [
    "4. The file extension for Python files is \".py\" or \".ipynb\"."
   ]
  },
  {
   "cell_type": "code",
   "execution_count": null,
   "id": "d2fd899c-0e9d-4832-98ee-86ed1c7936d8",
   "metadata": {},
   "outputs": [],
   "source": [
    "5. Python code is interpreted, meaning that the source code is directly\n",
    "   executed by the Python interpreter without the need for a separate compilation\n",
    "   step. When you run a Python program, the interpreter reads the code line by line\n",
    "   and executes it in a step-by-step manner."
   ]
  },
  {
   "cell_type": "code",
   "execution_count": null,
   "id": "6b838abe-a03a-4684-b433-75db85dd744b",
   "metadata": {},
   "outputs": [],
   "source": [
    "6. In Python, the indentation of code is used to define blocks of code.\n",
    "   \n",
    "  Some common examples of code blocks in Python include:\n",
    "  1. Function and method bodies: Code blocks are used to define the body of a function\n",
    "    7or method, which is a set of statements that are executed when the function is called.\n",
    "\n",
    "  2. Control flow statements: Code blocks are also used to define the bodies of control flow\n",
    "    statements such as if/else statements, for loops, and while loops.\n",
    "\n",
    "  3. Class definitions: Code blocks are used to define the body of a class, which is a collection\n",
    "    of methods and variables that define a new data type.\n",
    "\n",
    "  In each case, the code within the block is indented by a consistent amount of whitespace\n",
    "  (usually four spaces) relative to the surrounding code, and the block is terminated when\n",
    "  the indentation level returns to the previous level.\n"
   ]
  },
  {
   "cell_type": "code",
   "execution_count": null,
   "id": "7743d923-04cb-4460-9b4f-54b67b60a598",
   "metadata": {},
   "outputs": [],
   "source": [
    "7. The hash symbol \"#\" is used to give a single line comment in Python."
   ]
  },
  {
   "cell_type": "code",
   "execution_count": null,
   "id": "479431d0-658e-4ec7-9d6f-8ce7136f59ba",
   "metadata": {},
   "outputs": [],
   "source": [
    "8. Function used to check the current version of phython in which we are working on is:\n",
    "    import sys\n",
    "    print(sys.version)"
   ]
  },
  {
   "cell_type": "code",
   "execution_count": null,
   "id": "929c67b9-1c17-457b-80be-b6a2293d1ebf",
   "metadata": {},
   "outputs": [],
   "source": [
    "9. \"lambda function\" is used for creation of anonymous function."
   ]
  },
  {
   "cell_type": "code",
   "execution_count": null,
   "id": "9cef5f7e-fa38-4f12-b79c-3f47b6bcec07",
   "metadata": {},
   "outputs": [],
   "source": [
    "10. PIP stands for \"Pip Installs Packages\". It is a package management system used to\n",
    "    install and manage software packages written in Python. PIP is the standard package manager\n",
    "    for Python, and it is used to install and manage both third-party and Python built-in modules.\n",
    "    "
   ]
  },
  {
   "cell_type": "code",
   "execution_count": null,
   "id": "08d2f6b1-ead5-4b0d-9f6b-dad3d64dfc6c",
   "metadata": {},
   "outputs": [],
   "source": [
    "11. Python provides a number of built-in functions that are available without\n",
    "    the need for any external libraries or packages.\n",
    "    \n",
    "    Examples :\n",
    "        print() - used to display output on the console\n",
    "        len() - used to determine the length of an object (such as a string or list)\n",
    "        range() - used to generate a sequence of numbers\n",
    "        type() - used to determine the data type of an object\n",
    "        input() - used to read input from the user on the console"
   ]
  },
  {
   "cell_type": "code",
   "execution_count": null,
   "id": "d82cb4f8-9bec-49bd-a95d-05b1d4d67c90",
   "metadata": {},
   "outputs": [],
   "source": [
    "12. In Python, the maximum length of an identifier is not specified explicitly.\n",
    "    However, it is generally recommended to keep identifier names reasonably short and descriptive.\n",
    "    \n",
    "    In practical terms, the maximum length of an identifier is limited by the memory\n",
    "    available to the Python interpreter and the practical constraints of the programming\n",
    "    environment. In general, identifier names should be concise and descriptive, and\n",
    "    avoid being excessively long."
   ]
  },
  {
   "cell_type": "code",
   "execution_count": null,
   "id": "07e97973-e8bd-465c-a2ca-b420237839f4",
   "metadata": {},
   "outputs": [],
   "source": [
    "13. The benefits of using phython :\n",
    "        1. Easy to learn and use\n",
    "        2. Productivity and efficiency\n",
    "        3. third-party libraries and frameworks\n",
    "        4. Large standard library\n",
    "        5. Cross-platform compatibility"
   ]
  },
  {
   "cell_type": "code",
   "execution_count": null,
   "id": "51237e26-dc93-49b9-a413-537244061f18",
   "metadata": {},
   "outputs": [],
   "source": [
    "14. In Python, memory management is handled automatically by the Python interpreter.\n",
    "    Python uses a technique called \"dynamic memory allocation\" to allocate and deallocate\n",
    "    memory as needed during program execution.Python's automatic memory management makes\n",
    "    it easier for developers to write and maintain Python code, as they do not have to worry\n",
    "    about manual memory management tasks."
   ]
  },
  {
   "cell_type": "code",
   "execution_count": null,
   "id": "335351a9-e8d1-4ef0-9fad-78f0e9c96516",
   "metadata": {},
   "outputs": [],
   "source": [
    "15. Here are the steps to install Python on Windows and set the path variables:\n",
    "\n",
    "    1. Download the Python installer from the official website (https://www.python.org/downloads/windows/).\n",
    "    2. Run the installer by double-clicking on the downloaded file. Follow the prompts and choose \n",
    "       the installation options as needed.\n",
    "    3. During the installation, make sure to check the option to \"Add Python to PATH\", which will\n",
    "       add the Python executable to your system's environment variables.\n",
    "    4. After the installation is complete, open the Command Prompt by pressing the \"Windows key + R\"\n",
    "       and typing \"cmd\" in the Run dialog box.\n",
    "    5. In the Command Prompt, type \"python\" and press Enter. If Python is installed correctly,\n",
    "       you should see the Python version number and a Python prompt (\">>>\").\n",
    "    6. To set the path variables, right-click on \"This PC\" and select \"Properties\".\n",
    "       Click on \"Advanced system settings\" and then click on \"Environment Variables\".\n",
    "    7. Under \"User variables\", click on \"New\" and enter \"PYTHON_HOME\" as the variable name,\n",
    "       and the path where Python is installed as the variable value (for example, \"C:\\Python39\").\n",
    "    8. Under \"System variables\", scroll down and find the \"Path\" variable. Click on \"Edit\" and\n",
    "       add the path to the Python directory (for example, \"%PYTHON_HOME%\\Scripts;%PYTHON_HOME%\")\n",
    "       at the end of the existing values.\n",
    "    9. Click \"OK\" to save the changes.\n",
    "\n",
    "  Now you should be able to use Python in the Command Prompt and any other applications that\n",
    "  use the system environment variables."
   ]
  },
  {
   "cell_type": "code",
   "execution_count": null,
   "id": "31811a6b-677e-447b-9030-55366a34cff3",
   "metadata": {},
   "outputs": [],
   "source": [
    "16. Yes, indentation is required in Python. Unlike many other programming languages that use\n",
    "    curly braces or other symbols to indicate blocks of code, Python uses whitespace indentation\n",
    "    to define the structure of the code."
   ]
  }
 ],
 "metadata": {
  "kernelspec": {
   "display_name": "Python 3 (ipykernel)",
   "language": "python",
   "name": "python3"
  },
  "language_info": {
   "codemirror_mode": {
    "name": "ipython",
    "version": 3
   },
   "file_extension": ".py",
   "mimetype": "text/x-python",
   "name": "python",
   "nbconvert_exporter": "python",
   "pygments_lexer": "ipython3",
   "version": "3.10.8"
  }
 },
 "nbformat": 4,
 "nbformat_minor": 5
}

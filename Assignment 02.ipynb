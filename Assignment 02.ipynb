{
 "cells": [
  {
   "cell_type": "code",
   "execution_count": 1,
   "id": "dfd43e4b-ddfe-4ec0-b0fc-5e76fcacb1b3",
   "metadata": {},
   "outputs": [
    {
     "name": "stdin",
     "output_type": "stream",
     "text": [
      "Enter your percentage:  55\n"
     ]
    },
    {
     "name": "stdout",
     "output_type": "stream",
     "text": [
      "Your grade is: B\n"
     ]
    }
   ],
   "source": [
    "percentage = float(input(\"Enter your percentage: \"))\n",
    "\n",
    "if percentage > 90:\n",
    "    grade = \"A\"\n",
    "elif percentage <= 90:\n",
    "    grade = \"B\"\n",
    "elif percentage > 80:\n",
    "    grade = \"B\"\n",
    "elif percentage <= 80:\n",
    "    grade = \"C\"\n",
    "elif percentage >= 60:\n",
    "    grade = \"C\"\n",
    "else:\n",
    "    grade = \"D\"\n",
    "\n",
    "print(\"Your grade is:\", grade)"
   ]
  },
  {
   "cell_type": "code",
   "execution_count": 2,
   "id": "51739f11-8d8e-4668-852a-6ed3e4094c62",
   "metadata": {},
   "outputs": [
    {
     "name": "stdin",
     "output_type": "stream",
     "text": [
      "Enter the price of your bike 220000\n"
     ]
    },
    {
     "name": "stdout",
     "output_type": "stream",
     "text": [
      "The road tax to be paid is: 33000.0\n"
     ]
    }
   ],
   "source": [
    "cost = float(input(\"Enter the price of your bike\"))\n",
    "\n",
    "if cost > 100000 :\n",
    "    road_tax = 0.15 * cost\n",
    "elif cost > 500000 :\n",
    "    road_tax = 0.10 * cost\n",
    "elif cost <= 100000 :\n",
    "    road_tax = 0.10 * cost\n",
    "elif cost <= 500000:\n",
    "    road_tax = 0.05 * cost\n",
    "    \n",
    "print(\"The road tax to be paid is:\", road_tax)"
   ]
  },
  {
   "cell_type": "code",
   "execution_count": 1,
   "id": "2166ecd9-fe0c-487b-9c2e-fd417f49148e",
   "metadata": {},
   "outputs": [
    {
     "name": "stdin",
     "output_type": "stream",
     "text": [
      "Enter the city from the following : \n",
      "Delhi,Agra,Jaipur\n",
      " Delhi\n"
     ]
    },
    {
     "name": "stdout",
     "output_type": "stream",
     "text": [
      "\n",
      "Red Fort\n"
     ]
    }
   ],
   "source": [
    "city = input(\"Enter the city from the following : \\nDelhi,Agra,Jaipur\\n\")\n",
    "\n",
    "if city == \"Delhi\" :\n",
    "    print(\"\\nRed Fort\")\n",
    "elif city == \"Agra\" :\n",
    "    print(\"\\nTaj Mahal\")\n",
    "elif city == \"Jaipur\" :\n",
    "    print(\"\\nJal Mahal\")"
   ]
  },
  {
   "cell_type": "code",
   "execution_count": 2,
   "id": "bfd93bf3-c7b5-4139-b25e-55c49eb9b659",
   "metadata": {},
   "outputs": [
    {
     "name": "stdin",
     "output_type": "stream",
     "text": [
      "Enter a number:  21\n"
     ]
    },
    {
     "name": "stdout",
     "output_type": "stream",
     "text": [
      "The given number can be divided by 3\n",
      " 1 times before it is less than or equal to 10.\n"
     ]
    }
   ],
   "source": [
    "num = int(input(\"Enter a number: \"))  \n",
    "\n",
    "count = 0  \n",
    "\n",
    "while num > 10:  \n",
    "    num = num / 3  \n",
    "    count += 1 \n",
    "    \n",
    "print(\"The given number can be divided by 3\\n\", count, \"times before it is less than or equal to 10.\")\n"
   ]
  },
  {
   "cell_type": "code",
   "execution_count": null,
   "id": "f61a7bd1-3e86-41d9-865b-ecf28801c0b7",
   "metadata": {},
   "outputs": [],
   "source": [
    "5. The while loop is a fundamental control flow structure in Python and is used\n",
    "   to execute a block of code repeatedly until a specified condition is met.\n",
    "    \n",
    "    syntax:\n",
    "        while condition:\n",
    "            statement(s)\n",
    "            \n",
    "    Here, condition is a Boolean expression that is evaluated at the beginning of\n",
    "    each iteration of the loop. If the condition is True, the statement(s) inside\n",
    "    the loop will be executed, and the loop will continue. If the condition is False,\n",
    "    the loop will exit, and the control will move to the next statement after the loop.\n",
    "       \n",
    "   When we use while loop in phython:\n",
    "        1. Reading input until a specific value is entered\n",
    "        2. Iterating over a collection of items\n",
    "        3. Repeating a block of code until a certain condition is met\n",
    "        4. Implementing infinite loops (loops that run forever)\n",
    "        \n",
    "  Example :\n",
    "    fruits = ['apple', 'banana', 'cherry']\n",
    "\n",
    "    i = 0\n",
    "    while i < len(fruits):\n",
    "        print(fruits[i])\n",
    "        i += 1"
   ]
  },
  {
   "cell_type": "code",
   "execution_count": 4,
   "id": "ccbabca6-4c88-40de-914c-ecd56aa39bb3",
   "metadata": {},
   "outputs": [
    {
     "name": "stdout",
     "output_type": "stream",
     "text": [
      "*\n",
      "**\n",
      "***\n",
      "****\n",
      "*****\n"
     ]
    }
   ],
   "source": [
    "n = 5\n",
    "i = 1\n",
    "\n",
    "while i <= n:\n",
    "    j = 1\n",
    "    while j <= i:\n",
    "        print(\"*\", end=\"\")\n",
    "        j += 1\n",
    "    print()\n",
    "    i += 1"
   ]
  },
  {
   "cell_type": "code",
   "execution_count": 3,
   "id": "5ee6d00a-2de5-464c-87d6-041a5c63436e",
   "metadata": {},
   "outputs": [
    {
     "name": "stdout",
     "output_type": "stream",
     "text": [
      "*****\n",
      "*****\n",
      "*****\n",
      "*****\n",
      "*****\n"
     ]
    }
   ],
   "source": [
    "n = 5\n",
    "i = 1\n",
    "\n",
    "while i <= n:\n",
    "    j = 1\n",
    "    while j <= n:\n",
    "        print(\"*\", end=\"\")\n",
    "        j += 1\n",
    "    print()\n",
    "    i += 1\n"
   ]
  },
  {
   "cell_type": "code",
   "execution_count": 5,
   "id": "b8b45434-7f37-4157-b90a-7bac760782e8",
   "metadata": {},
   "outputs": [
    {
     "name": "stdout",
     "output_type": "stream",
     "text": [
      "  *\n",
      " ***\n",
      "*****\n",
      " ***\n",
      "  *\n"
     ]
    }
   ],
   "source": [
    "n = 3\n",
    "i = 1\n",
    "\n",
    "while i <= n:\n",
    "    j = 1\n",
    "    while j <= n - i:\n",
    "        print(\" \", end=\"\")\n",
    "        j += 1\n",
    "    j = 1\n",
    "    while j <= 2 * i - 1:\n",
    "        print(\"*\", end=\"\")\n",
    "        j += 1\n",
    "    print()\n",
    "    i += 1\n",
    "\n",
    "i = n - 1\n",
    "while i >= 1:\n",
    "    j = 1\n",
    "    while j <= n - i:\n",
    "        print(\" \", end=\"\")\n",
    "        j += 1\n",
    "    j = 1\n",
    "    while j <= 2 * i - 1:\n",
    "        print(\"*\", end=\"\")\n",
    "        j += 1\n",
    "    print()\n",
    "    i -= 1\n"
   ]
  },
  {
   "cell_type": "code",
   "execution_count": 6,
   "id": "dc8b2e82-aee6-4d35-b666-c79077561309",
   "metadata": {},
   "outputs": [
    {
     "name": "stdout",
     "output_type": "stream",
     "text": [
      "10\n",
      "9\n",
      "8\n",
      "7\n",
      "6\n",
      "5\n",
      "4\n",
      "3\n",
      "2\n",
      "1\n"
     ]
    }
   ],
   "source": [
    "num = 10\n",
    "\n",
    "while num >= 1:\n",
    "    print(num)\n",
    "    num -= 1\n"
   ]
  },
  {
   "cell_type": "code",
   "execution_count": null,
   "id": "30d62473-bbe6-4ed8-8b61-1593229e41a1",
   "metadata": {},
   "outputs": [],
   "source": []
  }
 ],
 "metadata": {
  "kernelspec": {
   "display_name": "Python 3 (ipykernel)",
   "language": "python",
   "name": "python3"
  },
  "language_info": {
   "codemirror_mode": {
    "name": "ipython",
    "version": 3
   },
   "file_extension": ".py",
   "mimetype": "text/x-python",
   "name": "python",
   "nbconvert_exporter": "python",
   "pygments_lexer": "ipython3",
   "version": "3.10.8"
  }
 },
 "nbformat": 4,
 "nbformat_minor": 5
}
